{
 "cells": [
  {
   "cell_type": "code",
   "execution_count": 10,
   "id": "894d9114",
   "metadata": {},
   "outputs": [],
   "source": [
    "import pandas as pd\n",
    "\n",
    "# Load events_combined.csv\n",
    "df = pd.read_csv(\"../data/interim/events_combined.csv\")\n"
   ]
  },
  {
   "cell_type": "code",
   "execution_count": 11,
   "id": "f701f16f",
   "metadata": {},
   "outputs": [
    {
     "name": "stdout",
     "output_type": "stream",
     "text": [
      "Index(['player_name'], dtype='object')\n"
     ]
    }
   ],
   "source": [
    "# Check available player info\n",
    "print(df.columns[df.columns.str.contains('player', case=False)])\n"
   ]
  },
  {
   "cell_type": "code",
   "execution_count": 13,
   "id": "73c25cfd",
   "metadata": {},
   "outputs": [],
   "source": [
    "# For example, using 'player_name' (you may need to adjust if player_id is not there)\n",
    "df['player_name'] = df['player_name'].fillna(\"Unknown\")\n",
    "df['player_idx'] = df['player_name'].astype('category').cat.codes\n",
    "\n",
    "# Create lookup table\n",
    "player_index_lookup = df[['player_name', 'player_idx']].drop_duplicates()\n",
    "\n",
    "# Create the folder if it doesn't exist\n",
    "Path(\"../data/processed\").mkdir(parents=True, exist_ok=True)\n",
    "# Save it\n",
    "player_index_lookup.to_csv(\"../data/processed/player_index_lookup.csv\", index=False)\n"
   ]
  },
  {
   "cell_type": "code",
   "execution_count": 14,
   "id": "6f9b0036",
   "metadata": {},
   "outputs": [],
   "source": [
    "import arviz as az\n",
    "\n",
    "# Load posterior\n",
    "idata = az.from_netcdf(\"../data/interim/player_model_trace.nc\")\n",
    "\n",
    "# Extract mean player effects\n",
    "player_effect_means = idata.posterior['player_effect'].mean(dim=[\"chain\", \"draw\"]).values\n"
   ]
  },
  {
   "cell_type": "code",
   "execution_count": 16,
   "id": "1cda1a89",
   "metadata": {},
   "outputs": [],
   "source": [
    "# Create a new DataFrame with player_idx and impact\n",
    "impact_df = pd.DataFrame({\n",
    "    'player_idx': np.arange(len(player_effect_means)),\n",
    "    'player_xg_impact': player_effect_means\n",
    "})\n",
    "\n",
    "# Merge using 'player_idx' to align correctly\n",
    "player_impact_df = pd.merge(player_index_lookup, impact_df, on='player_idx', how='inner')\n",
    "\n",
    "# Save to processed folder\n",
    "from pathlib import Path\n",
    "Path(\"../data/processed\").mkdir(parents=True, exist_ok=True)\n",
    "player_impact_df.to_csv(\"../data/processed/player_impact.csv\", index=False)"
   ]
  }
 ],
 "metadata": {
  "kernelspec": {
   "display_name": "Python 3",
   "language": "python",
   "name": "python3"
  },
  "language_info": {
   "codemirror_mode": {
    "name": "ipython",
    "version": 3
   },
   "file_extension": ".py",
   "mimetype": "text/x-python",
   "name": "python",
   "nbconvert_exporter": "python",
   "pygments_lexer": "ipython3",
   "version": "3.11.9"
  }
 },
 "nbformat": 4,
 "nbformat_minor": 5
}
