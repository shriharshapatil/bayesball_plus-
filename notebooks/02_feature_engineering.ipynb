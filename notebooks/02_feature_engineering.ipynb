{
 "cells": [
  {
   "cell_type": "markdown",
   "metadata": {},
   "source": [
    "# 02 - Feature Engineering: Player-Level Stats\n",
    "This notebook processes World Cup 2018 event data to compute per-player, per-match features for modeling.\n",
    "Features include xG, pass accuracy, pressures, and minutes played."
   ]
  },
  {
   "cell_type": "code",
   "execution_count": 3,
   "metadata": {},
   "outputs": [],
   "source": [
    "import pandas as pd\n",
    "from pathlib import Path"
   ]
  },
  {
   "cell_type": "code",
   "execution_count": 4,
   "metadata": {},
   "outputs": [
    {
     "name": "stderr",
     "output_type": "stream",
     "text": [
      "C:\\Users\\shrih\\AppData\\Local\\Temp\\ipykernel_13692\\3268859902.py:3: DtypeWarning: Columns (43,57,85,91,92,94,97,98,99,107,110,112,114,115,116,117,118,119,120,121) have mixed types. Specify dtype option on import or set low_memory=False.\n",
      "  events_df = pd.read_csv(data_dir / \"events_worldcup_2018.csv\")\n"
     ]
    }
   ],
   "source": [
    "# Load event data\n",
    "data_dir = Path(\"../data/raw\")\n",
    "events_df = pd.read_csv(data_dir / \"events_worldcup_2018.csv\")\n",
    "events_df = events_df[~events_df['type.name'].isin(['Starting XI', 'Half Start'])]\n",
    "events_df['player.name'] = events_df['player.name'].fillna('Unknown')\n",
    "events_df['team.name'] = events_df['team.name'].fillna('Unknown')\n",
    "events_df = events_df.dropna(subset=['player.name', 'team.name'])"
   ]
  },
  {
   "cell_type": "code",
   "execution_count": 5,
   "metadata": {},
   "outputs": [],
   "source": [
    "# Feature: Total xG and Shot Count\n",
    "shots = events_df[events_df['type.name'] == 'Shot']\n",
    "xg_stats = shots.groupby(['match_id', 'player.name'])['shot.statsbomb_xg'].agg(['sum', 'count']).reset_index()\n",
    "xg_stats.columns = ['match_id', 'player.name', 'total_xg', 'num_shots']"
   ]
  },
  {
   "cell_type": "code",
   "execution_count": 6,
   "metadata": {},
   "outputs": [
    {
     "name": "stderr",
     "output_type": "stream",
     "text": [
      "C:\\Users\\shrih\\AppData\\Local\\Temp\\ipykernel_13692\\66995776.py:3: SettingWithCopyWarning: \n",
      "A value is trying to be set on a copy of a slice from a DataFrame.\n",
      "Try using .loc[row_indexer,col_indexer] = value instead\n",
      "\n",
      "See the caveats in the documentation: https://pandas.pydata.org/pandas-docs/stable/user_guide/indexing.html#returning-a-view-versus-a-copy\n",
      "  passes['complete'] = passes['pass.outcome.name'].isna().astype(int)\n"
     ]
    }
   ],
   "source": [
    "# Feature: Passes and Completion\n",
    "passes = events_df[events_df['type.name'] == 'Pass']\n",
    "passes['complete'] = passes['pass.outcome.name'].isna().astype(int)\n",
    "pass_stats = passes.groupby(['match_id', 'player.name'])['complete'].agg(['count', 'sum']).reset_index()\n",
    "pass_stats.columns = ['match_id', 'player.name', 'total_passes', 'completed_passes']"
   ]
  },
  {
   "cell_type": "code",
   "execution_count": 7,
   "metadata": {},
   "outputs": [],
   "source": [
    "# Feature: Pressures\n",
    "pressures = events_df[events_df['type.name'] == 'Pressure']\n",
    "pressure_stats = pressures.groupby(['match_id', 'player.name']).size().reset_index(name='num_pressures')"
   ]
  },
  {
   "cell_type": "code",
   "execution_count": 8,
   "metadata": {},
   "outputs": [],
   "source": [
    "# Combine all features\n",
    "features_df = xg_stats.merge(pass_stats, on=['match_id', 'player.name'], how='outer')\n",
    "features_df = features_df.merge(pressure_stats, on=['match_id', 'player.name'], how='outer')\n",
    "features_df = features_df.fillna(0)\n",
    "features_df['pass_accuracy'] = features_df['completed_passes'] / features_df['total_passes'].replace(0, 1)"
   ]
  },
  {
   "cell_type": "code",
   "execution_count": 9,
   "metadata": {},
   "outputs": [
    {
     "data": {
      "text/html": [
       "<div>\n",
       "<style scoped>\n",
       "    .dataframe tbody tr th:only-of-type {\n",
       "        vertical-align: middle;\n",
       "    }\n",
       "\n",
       "    .dataframe tbody tr th {\n",
       "        vertical-align: top;\n",
       "    }\n",
       "\n",
       "    .dataframe thead th {\n",
       "        text-align: right;\n",
       "    }\n",
       "</style>\n",
       "<table border=\"1\" class=\"dataframe\">\n",
       "  <thead>\n",
       "    <tr style=\"text-align: right;\">\n",
       "      <th></th>\n",
       "      <th>match_id</th>\n",
       "      <th>player.name</th>\n",
       "      <th>total_xg</th>\n",
       "      <th>num_shots</th>\n",
       "      <th>total_passes</th>\n",
       "      <th>completed_passes</th>\n",
       "      <th>num_pressures</th>\n",
       "      <th>pass_accuracy</th>\n",
       "    </tr>\n",
       "  </thead>\n",
       "  <tbody>\n",
       "    <tr>\n",
       "      <th>0</th>\n",
       "      <td>7525</td>\n",
       "      <td>Abdullah Ibrahim Al Maiouf</td>\n",
       "      <td>0.000000</td>\n",
       "      <td>0.0</td>\n",
       "      <td>35.0</td>\n",
       "      <td>15.0</td>\n",
       "      <td>0.0</td>\n",
       "      <td>0.428571</td>\n",
       "    </tr>\n",
       "    <tr>\n",
       "      <th>1</th>\n",
       "      <td>7525</td>\n",
       "      <td>Abdullah Ibrahim Otayf</td>\n",
       "      <td>0.000000</td>\n",
       "      <td>0.0</td>\n",
       "      <td>54.0</td>\n",
       "      <td>47.0</td>\n",
       "      <td>14.0</td>\n",
       "      <td>0.870370</td>\n",
       "    </tr>\n",
       "    <tr>\n",
       "      <th>2</th>\n",
       "      <td>7525</td>\n",
       "      <td>Alan Dzagoev</td>\n",
       "      <td>0.075106</td>\n",
       "      <td>1.0</td>\n",
       "      <td>10.0</td>\n",
       "      <td>8.0</td>\n",
       "      <td>8.0</td>\n",
       "      <td>0.800000</td>\n",
       "    </tr>\n",
       "    <tr>\n",
       "      <th>3</th>\n",
       "      <td>7525</td>\n",
       "      <td>Aleksandr Golovin</td>\n",
       "      <td>0.074455</td>\n",
       "      <td>1.0</td>\n",
       "      <td>36.0</td>\n",
       "      <td>24.0</td>\n",
       "      <td>33.0</td>\n",
       "      <td>0.666667</td>\n",
       "    </tr>\n",
       "    <tr>\n",
       "      <th>4</th>\n",
       "      <td>7525</td>\n",
       "      <td>Aleksandr Samedov</td>\n",
       "      <td>0.080169</td>\n",
       "      <td>2.0</td>\n",
       "      <td>19.0</td>\n",
       "      <td>16.0</td>\n",
       "      <td>18.0</td>\n",
       "      <td>0.842105</td>\n",
       "    </tr>\n",
       "  </tbody>\n",
       "</table>\n",
       "</div>"
      ],
      "text/plain": [
       "   match_id                 player.name  total_xg  num_shots  total_passes  \\\n",
       "0      7525  Abdullah Ibrahim Al Maiouf  0.000000        0.0          35.0   \n",
       "1      7525      Abdullah Ibrahim Otayf  0.000000        0.0          54.0   \n",
       "2      7525                Alan Dzagoev  0.075106        1.0          10.0   \n",
       "3      7525           Aleksandr Golovin  0.074455        1.0          36.0   \n",
       "4      7525           Aleksandr Samedov  0.080169        2.0          19.0   \n",
       "\n",
       "   completed_passes  num_pressures  pass_accuracy  \n",
       "0              15.0            0.0       0.428571  \n",
       "1              47.0           14.0       0.870370  \n",
       "2               8.0            8.0       0.800000  \n",
       "3              24.0           33.0       0.666667  \n",
       "4              16.0           18.0       0.842105  "
      ]
     },
     "execution_count": 9,
     "metadata": {},
     "output_type": "execute_result"
    }
   ],
   "source": [
    "# Save engineered features\n",
    "features_df.to_csv(data_dir / \"features_player_match_worldcup_2018.csv\", index=False)\n",
    "features_df.head()"
   ]
  },
  {
   "cell_type": "code",
   "execution_count": null,
   "metadata": {},
   "outputs": [],
   "source": []
  }
 ],
 "metadata": {
  "kernelspec": {
   "display_name": "Python 3",
   "language": "python",
   "name": "python3"
  },
  "language_info": {
   "codemirror_mode": {
    "name": "ipython",
    "version": 3
   },
   "file_extension": ".py",
   "mimetype": "text/x-python",
   "name": "python",
   "nbconvert_exporter": "python",
   "pygments_lexer": "ipython3",
   "version": "3.11.9"
  }
 },
 "nbformat": 4,
 "nbformat_minor": 2
}
